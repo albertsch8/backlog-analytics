{
 "cells": [
  {
   "cell_type": "markdown",
   "metadata": {},
   "source": [
    "## Table of Content:\n",
    "\n",
    "* [Sprint Velocity](#velocity)\n",
    "* [Feature_Percent](#feature_percent)\n",
    "* [Burnup](#mvp_burnup)\n"
   ]
  },
  {
   "cell_type": "code",
   "execution_count": 1,
   "metadata": {},
   "outputs": [],
   "source": [
    "# >>> EDIT ITEMS IN THIS CELL\n",
    "\n",
    "# Last complete sprint\n",
    "last_sprint = 3\n",
    "\n",
    "# Export the query from VSTS and save to the folder containing this notebook \n",
    "filename = \"sample_data/team_sample_data_mac.csv\"\n",
    "\n",
    "# Define the sprint path up to sprint number\n",
    "iteration_path = 'projectName\\team1\\Sprint '\n",
    "\n",
    "# Change size of Feature Percent and Burnup graphs (width, height)\n",
    "w = 10\n",
    "h = 6"
   ]
  },
  {
   "cell_type": "code",
   "execution_count": 2,
   "metadata": {},
   "outputs": [],
   "source": [
    "# Replace back slash with forward slash for iteration_path\n",
    "split_t = iteration_path.split('\\t')\n",
    "temp_t = \"/t\".join([split for split in split_t])\n",
    "split_n = temp_t.split('\\n')\n",
    "temp_n = \"/n\".join([split for split in split_n])\n",
    "iteration_path = temp_n.replace('\\\\','/')"
   ]
  },
  {
   "cell_type": "code",
   "execution_count": 3,
   "metadata": {
    "scrolled": true
   },
   "outputs": [],
   "source": [
    "import pandas as pd\n",
    "import numpy as np\n",
    "import matplotlib.pyplot as plt\n",
    "from sklearn.linear_model import LinearRegression\n",
    "import warnings\n",
    "warnings.filterwarnings('ignore')"
   ]
  },
  {
   "cell_type": "code",
   "execution_count": 4,
   "metadata": {},
   "outputs": [],
   "source": [
    "# --- Import data and attach feature names to stories\n",
    "df = pd.read_csv(filename, header = 0)\n",
    "df = df.replace(np.nan, '', regex=True)\n",
    "\n",
    "# Assign Feature label to User Story (diff for Mac)\n",
    "df['Feature'] = \"\"\n",
    "feature=df['Title'][0]\n",
    "for i in range(0,len(df)):\n",
    "    if df['Work Item Type'][i]!=\"Feature\":\n",
    "        df['Feature'][i]= feature;\n",
    "        \n",
    "    else:\n",
    "        feature = df['Title'][i]\n",
    "        df['Feature'][i] = feature\n",
    "\n",
    "\n",
    "df['Iteration Path'] = df['Iteration Path'].replace({'Iteration':'Sprint'}, regex=True)\n",
    "df['Iteration Path'] = df['Iteration Path'].replace(r'\\\\','/',regex=True)\n",
    "\n",
    "it_paths = df['Iteration Path'].unique()"
   ]
  },
  {
   "cell_type": "code",
   "execution_count": 5,
   "metadata": {},
   "outputs": [],
   "source": [
    "# --- Calculate Velocity\n",
    "\n",
    "sprint_paths = [] #list\n",
    "for value in it_paths:\n",
    "    if 'Sprint' in value:\n",
    "        sprint_paths.append(value)\n",
    "    else:\n",
    "        continue\n",
    "        \n",
    "total_sprints = len(sprint_paths)\n",
    "\n",
    "df['Story Points'] = df[['Story Points']].convert_objects(convert_numeric=True).fillna(0)\n",
    "\n",
    "# Find total number of stories and number of complete stories per sprint\n",
    "total_points_per_sprint = []\n",
    "closed_points_per_sprint = []\n",
    "sprints = []\n",
    "for i in range(1,(total_sprints+1)):\n",
    "    sprint_name = iteration_path + str(i)\n",
    "    sprints.append('Sprint '+str(i))\n",
    "    \n",
    "    num_closed_points = int(df[(df['Iteration Path']== sprint_name)&(df['State']=='Closed')].sum()[\"Story Points\"])\n",
    "    closed_points_per_sprint.append(num_closed_points)\n",
    "    \n",
    "    num_tot_points = int(df[(df['Iteration Path']== sprint_name)].sum()[\"Story Points\"])\n",
    "    total_points_per_sprint.append(num_tot_points)\n",
    "    \n",
    "sprintdf = {'Sprints':sprints, '# Story Points': total_points_per_sprint, '# Closed': closed_points_per_sprint}\n",
    "sprintdf = pd.DataFrame (data = sprintdf)\n",
    "sprintdf.loc[-1] = ['Sprint 0', 0,0]\n",
    "sprintdf = sprintdf.sort_index()\n",
    "sprintdf = sprintdf.reset_index(drop=True)\n",
    "sprintdf['Points Cumsum'] = sprintdf['# Story Points'].cumsum()\n",
    "sprintdf['Closed Cumsum'] = sprintdf['# Closed'].cumsum()\n",
    "\n",
    "# --- Calculate points per feature\n",
    "\n",
    "features = df['Feature'].unique()\n",
    "\n",
    "total_MVP_points_per_feat = []\n",
    "closed_MVP_points_per_feat = []\n",
    "percent_MVP_complete = []\n",
    "feat_iteration_path = []\n",
    "\n",
    "for i in range(0,len(features)):\n",
    "    num_closed_points = int(df[(df['Feature']== features[i])&(df['State']==\"Closed\")&(df['Iteration Path'].str.contains(iteration_path))].sum()[\"Story Points\"])\n",
    "    closed_MVP_points_per_feat.append(num_closed_points)\n",
    "    \n",
    "    num_tot_points = int(df[(df['Feature']== features[i])&(df['Iteration Path'].str.contains(iteration_path))].sum()[\"Story Points\"])\n",
    "    total_MVP_points_per_feat.append(num_tot_points)\n",
    "    \n",
    "    if num_tot_points != 0:\n",
    "        percent = int(round(num_closed_points/num_tot_points*100))\n",
    "        percent_MVP_complete.append(percent)\n",
    "    else:\n",
    "        percent_MVP_complete.append(0)\n",
    "        \n",
    "    feat_iteration_path.append(df[(df['Feature']==features[i])&(df['Work Item Type']=='Feature')].iloc[0]['Iteration Path'])\n",
    "        \n",
    "# combine into df    \n",
    "featdf_all = {'Feature':features, '# Story Points': total_MVP_points_per_feat, '# Points Closed': closed_MVP_points_per_feat, '% MVP Complete': percent_MVP_complete, 'Iteration Path': feat_iteration_path}\n",
    "featdf_all = pd.DataFrame (data = featdf_all)\n",
    "featdf_all = featdf_all.dropna()\n",
    "\n",
    "\n",
    "# Include only features with story points\n",
    "featdf = featdf_all[(featdf_all['# Story Points']>0)]\n",
    "featdf = featdf[::-1]"
   ]
  },
  {
   "cell_type": "code",
   "execution_count": 6,
   "metadata": {},
   "outputs": [
    {
     "data": {
      "text/html": [
       "<div>\n",
       "<style scoped>\n",
       "    .dataframe tbody tr th:only-of-type {\n",
       "        vertical-align: middle;\n",
       "    }\n",
       "\n",
       "    .dataframe tbody tr th {\n",
       "        vertical-align: top;\n",
       "    }\n",
       "\n",
       "    .dataframe thead th {\n",
       "        text-align: right;\n",
       "    }\n",
       "</style>\n",
       "<table border=\"1\" class=\"dataframe\">\n",
       "  <thead>\n",
       "    <tr style=\"text-align: right;\">\n",
       "      <th></th>\n",
       "      <th>ID</th>\n",
       "      <th>Work Item Type</th>\n",
       "      <th>Title</th>\n",
       "      <th>State</th>\n",
       "      <th>Story Points</th>\n",
       "      <th>Iteration Path</th>\n",
       "      <th>Feature</th>\n",
       "    </tr>\n",
       "  </thead>\n",
       "  <tbody>\n",
       "    <tr>\n",
       "      <th>0</th>\n",
       "      <td>100</td>\n",
       "      <td>Feature</td>\n",
       "      <td>feature1</td>\n",
       "      <td>Closed</td>\n",
       "      <td>0.0</td>\n",
       "      <td>projectName/team1</td>\n",
       "      <td>feature1</td>\n",
       "    </tr>\n",
       "    <tr>\n",
       "      <th>1</th>\n",
       "      <td>111</td>\n",
       "      <td>User Story</td>\n",
       "      <td>story1</td>\n",
       "      <td>Closed</td>\n",
       "      <td>1.0</td>\n",
       "      <td>projectName/team1/Sprint 1</td>\n",
       "      <td>feature1</td>\n",
       "    </tr>\n",
       "    <tr>\n",
       "      <th>2</th>\n",
       "      <td>112</td>\n",
       "      <td>User Story</td>\n",
       "      <td>story2</td>\n",
       "      <td>Closed</td>\n",
       "      <td>1.0</td>\n",
       "      <td>projectName/team1/Sprint 1</td>\n",
       "      <td>feature1</td>\n",
       "    </tr>\n",
       "    <tr>\n",
       "      <th>3</th>\n",
       "      <td>113</td>\n",
       "      <td>User Story</td>\n",
       "      <td>story3</td>\n",
       "      <td>Closed</td>\n",
       "      <td>3.0</td>\n",
       "      <td>projectName/team1/Sprint 1</td>\n",
       "      <td>feature1</td>\n",
       "    </tr>\n",
       "  </tbody>\n",
       "</table>\n",
       "</div>"
      ],
      "text/plain": [
       "    ID Work Item Type     Title   State  Story Points  \\\n",
       "0  100        Feature  feature1  Closed           0.0   \n",
       "1  111     User Story    story1  Closed           1.0   \n",
       "2  112     User Story    story2  Closed           1.0   \n",
       "3  113     User Story    story3  Closed           3.0   \n",
       "\n",
       "               Iteration Path   Feature  \n",
       "0           projectName/team1  feature1  \n",
       "1  projectName/team1/Sprint 1  feature1  \n",
       "2  projectName/team1/Sprint 1  feature1  \n",
       "3  projectName/team1/Sprint 1  feature1  "
      ]
     },
     "execution_count": 6,
     "metadata": {},
     "output_type": "execute_result"
    }
   ],
   "source": [
    "### Various dataframes\n",
    "# df.head() \n",
    "# sprintdf.tail()\n",
    "# MVP_featdf.head()\n",
    "\n",
    "# Show stories in the feature: df[df['Feature']=='feature1']\n",
    "df[df['Feature']=='feature1']"
   ]
  },
  {
   "cell_type": "markdown",
   "metadata": {},
   "source": [
    "# Velocity  <a class=\"anchor\" id=\"velocity\"></a>"
   ]
  },
  {
   "cell_type": "code",
   "execution_count": 7,
   "metadata": {},
   "outputs": [
    {
     "name": "stdout",
     "output_type": "stream",
     "text": [
      "Average Velocity:  8.0 Story Points\n"
     ]
    },
    {
     "data": {
      "image/png": "[encoded data removed]",
      "text/plain": [
       "<Figure size 432x288 with 1 Axes>"
      ]
     },
     "metadata": {
      "needs_background": "light"
     },
     "output_type": "display_data"
    }
   ],
   "source": [
    "ax = sprintdf[\"# Closed\"].plot.bar(title=\"Sprint Velocity\",rot=0, color='c')\n",
    "ax.set_ylim(0, 20)\n",
    "for i, label in enumerate(list(sprintdf.index)):\n",
    "    score = sprintdf.loc[label]['# Closed']\n",
    "    ax.annotate(str(score), xy = (i, score), ha='center', va = 'bottom')\n",
    "    \n",
    "# Average sprint velocity for up to current sprint\n",
    "print('Average Velocity: ', sprintdf.iloc[1:(last_sprint+1),2].sum()/(last_sprint), 'Story Points')"
   ]
  },
  {
   "cell_type": "markdown",
   "metadata": {},
   "source": []
  },
  {
   "cell_type": "markdown",
   "metadata": {},
   "source": [
    "# Feature  Percent<a class=\"anchor\" id=\"feature_percent\"></a>"
   ]
  },
  {
   "cell_type": "code",
   "execution_count": 8,
   "metadata": {
    "scrolled": false
   },
   "outputs": [
    {
     "name": "stdout",
     "output_type": "stream",
     "text": [
      "% Story Points Complete =  81.25\n",
      "Total # Story Points =  32\n",
      "# Remaining Story Points =  6\n"
     ]
    },
    {
     "data": {
      "image/png": "[encoded data removed]",
      "text/plain": [
       "<Figure size 720x432 with 1 Axes>"
      ]
     },
     "metadata": {
      "needs_background": "light"
     },
     "output_type": "display_data"
    }
   ],
   "source": [
    "# Define x-axis max value\n",
    "max_x = featdf['# Story Points'].max()\n",
    "x_axis_max = (int(max_x/5)+1)*5\n",
    "\n",
    "# Plot\n",
    "ax1 = featdf.plot.barh(title=\"MVP Feature Percent Complete\", x=\"Feature\", y= \"# Story Points\",color='lightcoral', figsize = (w,h));\n",
    "featdf.plot.barh(x=\"Feature\", y= \"# Points Closed\", ax=ax1, color='c', width = 0.5);\n",
    "ax1.set_yticklabels(featdf['Feature'], rotation=0);\n",
    "ax1.set_xlim(0, x_axis_max);\n",
    "\n",
    "for i, cards in enumerate(list(featdf['# Story Points'])):\n",
    "    ax1.annotate(str(cards-featdf['# Points Closed'].iloc[i]), xy = (cards, i), va = \"center\")\n",
    "\n",
    "# Number of MVP points\n",
    "num_mvp = featdf['# Story Points'].sum()\n",
    "mvp_left = featdf['# Story Points'].sum()-featdf['# Points Closed'].sum()\n",
    "MVP_percent_complete = featdf['# Points Closed'].sum()/featdf['# Story Points'].sum()*100\n",
    "\n",
    "print('% Story Points Complete = ', MVP_percent_complete.round(2))\n",
    "print('Total # Story Points = ', num_mvp) \n",
    "print('# Remaining Story Points = ', mvp_left)"
   ]
  },
  {
   "cell_type": "markdown",
   "metadata": {},
   "source": [
    "# Burnup <a class=\"anchor\" id=\"mvp_burnup\"></a>"
   ]
  },
  {
   "cell_type": "code",
   "execution_count": 9,
   "metadata": {},
   "outputs": [
    {
     "name": "stdout",
     "output_type": "stream",
     "text": [
      "Projected velocity =  8.1 Story Points\n",
      "Estimated Completion: Sprint 3.95\n"
     ]
    },
    {
     "data": {
      "image/png": "[encoded data removed]",
      "text/plain": [
       "<Figure size 720x432 with 1 Axes>"
      ]
     },
     "metadata": {
      "needs_background": "light"
     },
     "output_type": "display_data"
    }
   ],
   "source": [
    "# complete_sprints\n",
    "completeSprintdf = sprintdf[:last_sprint+1]\n",
    "\n",
    "# Find linear fit\n",
    "model = LinearRegression()\n",
    "X = np.array(range(len(completeSprintdf['Points Cumsum']))).reshape(-1, 1)\n",
    "model.fit(X, np.array(completeSprintdf['Points Cumsum']))\n",
    "\n",
    "# Plot\n",
    "# Projected average cards per sprint\n",
    "print('Projected velocity = ', model.coef_[0].round(2),'Story Points')\n",
    "\n",
    "# Estimated sprints to finish MVP\n",
    "est_completion = num_mvp/model.coef_[0]\n",
    "print('Estimated Completion: Sprint', est_completion.round(2))\n",
    "\n",
    "fig = plt.figure(figsize = (w,h))\n",
    "ax = fig.add_subplot(1, 1, 1)\n",
    "\n",
    "plt.title(\"Burnup\", fontsize=16, fontweight='bold')\n",
    "plt.xlabel(\"Sprints\")\n",
    "plt.ylabel(\"# Stories\")\n",
    "ax.set_xticks(np.arange(0, int(est_completion) +3, 1))\n",
    "\n",
    "X = np.array(range(int(est_completion) +3)).reshape(-1, 1)\n",
    "plt.plot(X, model.predict(X), color='lightcoral', label='Prediction', linewidth = 3.0)\n",
    "plt.plot(completeSprintdf['Closed Cumsum'], label = 'Closed Stories', linewidth = 3.0)\n",
    "plt.axhline(y=num_mvp, color='g', linestyle='--', label='MVP', linewidth = 3.0)\n",
    "plt.legend(loc='lower right')\n",
    "\n",
    "plt.show()"
   ]
  },
  {
   "cell_type": "code",
   "execution_count": null,
   "metadata": {},
   "outputs": [],
   "source": []
  }
 ],
 "metadata": {
  "kernelspec": {
   "display_name": "Python 3",
   "language": "python",
   "name": "python3"
  },
  "language_info": {
   "codemirror_mode": {
    "name": "ipython",
    "version": 3
   },
   "file_extension": ".py",
   "mimetype": "text/x-python",
   "name": "python",
   "nbconvert_exporter": "python",
   "pygments_lexer": "ipython3",
   "version": "3.7.1"
  }
 },
 "nbformat": 4,
 "nbformat_minor": 2
}
