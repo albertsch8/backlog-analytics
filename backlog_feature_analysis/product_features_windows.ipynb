{
 "cells": [
  {
   "cell_type": "markdown",
   "metadata": {},
   "source": [
    "## Table of Content:\n",
    "\n",
    "* [Feature_Percent](#feature_percent)\n"
   ]
  },
  {
   "cell_type": "code",
   "execution_count": 1,
   "metadata": {},
   "outputs": [],
   "source": [
    "# >>> EDIT ITEMS IN THIS CELL\n",
    "\n",
    "# Copy and paste the query from VSTS and save to the folder containing this notebook \n",
    "filename = \"sample_data/product_sample_data_windows.csv\"\n",
    "\n",
    "# Change size of Feature Percent graph (width, height)\n",
    "w = 14\n",
    "h = 6"
   ]
  },
  {
   "cell_type": "code",
   "execution_count": 2,
   "metadata": {
    "scrolled": true
   },
   "outputs": [],
   "source": [
    "import pandas as pd\n",
    "import numpy as np\n",
    "import matplotlib.pyplot as plt\n",
    "from sklearn.linear_model import LinearRegression\n",
    "import warnings\n",
    "warnings.filterwarnings('ignore')"
   ]
  },
  {
   "cell_type": "code",
   "execution_count": 3,
   "metadata": {},
   "outputs": [],
   "source": [
    "# --- Import and attach feature names to stories\n",
    "\n",
    "df = pd.read_csv(filename, header = 1)\n",
    "df = df.replace(np.nan, '', regex=True)\n",
    "\n",
    "feature=df['Title 1'][0]\n",
    "for i in range(0,len(df)):\n",
    "    if df['Title 1'][i]==\"\":\n",
    "        df['Title 1'][i]= feature;\n",
    "        \n",
    "    else:\n",
    "        feature = df['Title 1'][i]\n",
    "df=df.rename(columns = {'Title 1':'Feature'}) "
   ]
  },
  {
   "cell_type": "code",
   "execution_count": 4,
   "metadata": {},
   "outputs": [],
   "source": [
    "# --- Calculate points per feature\n",
    "\n",
    "features = df['Feature'].unique()\n",
    "\n",
    "total_MVP_points_per_feat = []\n",
    "closed_MVP_points_per_feat = []\n",
    "percent_MVP_complete = []\n",
    "feat_iteration_path = []\n",
    "\n",
    "df['Story Points'] = df[['Story Points']].convert_objects(convert_numeric=True).fillna(0)\n",
    "\n",
    "for i in range(0,len(features)):\n",
    "    num_closed_points = int(df[(df['Feature']== features[i])&(df['State']=='Closed')].sum()[\"Story Points\"])\n",
    "    closed_MVP_points_per_feat.append(num_closed_points)\n",
    "    \n",
    "    num_tot_points = int(df[df['Feature']== features[i]].sum()[\"Story Points\"])\n",
    "    total_MVP_points_per_feat.append(num_tot_points)\n",
    "    \n",
    "    if num_tot_points != 0:\n",
    "        percent = int(round(num_closed_points/num_tot_points*100))\n",
    "        percent_MVP_complete.append(percent)\n",
    "    else:\n",
    "        percent_MVP_complete.append(0)\n",
    "        \n",
    "    feat_iteration_path.append(df[(df['Feature']==features[i])&(df['Work Item Type']=='Feature')].iloc[0]['Iteration Path'])\n",
    "        \n",
    "# combine into df    \n",
    "featdf_all = {'Feature':features, '# Story Points': total_MVP_points_per_feat, '# Points Closed': closed_MVP_points_per_feat, '% MVP Complete': percent_MVP_complete, 'Iteration Path': feat_iteration_path}\n",
    "featdf_all = pd.DataFrame (data = featdf_all)\n",
    "featdf_all = featdf_all.dropna()\n",
    "\n",
    "\n",
    "# Include only features with story points\n",
    "featdf = featdf_all[(featdf_all['# Story Points']>0)]\n",
    "featdf = featdf[::-1]"
   ]
  },
  {
   "cell_type": "code",
   "execution_count": 5,
   "metadata": {},
   "outputs": [
    {
     "data": {
      "text/html": [
       "<div>\n",
       "<style scoped>\n",
       "    .dataframe tbody tr th:only-of-type {\n",
       "        vertical-align: middle;\n",
       "    }\n",
       "\n",
       "    .dataframe tbody tr th {\n",
       "        vertical-align: top;\n",
       "    }\n",
       "\n",
       "    .dataframe thead th {\n",
       "        text-align: right;\n",
       "    }\n",
       "</style>\n",
       "<table border=\"1\" class=\"dataframe\">\n",
       "  <thead>\n",
       "    <tr style=\"text-align: right;\">\n",
       "      <th></th>\n",
       "      <th>ID</th>\n",
       "      <th>Work Item Type</th>\n",
       "      <th>Feature</th>\n",
       "      <th>Title 2</th>\n",
       "      <th>Title 3</th>\n",
       "      <th>State</th>\n",
       "      <th>Story Points</th>\n",
       "      <th>Iteration Path</th>\n",
       "    </tr>\n",
       "  </thead>\n",
       "  <tbody>\n",
       "    <tr>\n",
       "      <th>0</th>\n",
       "      <td>100</td>\n",
       "      <td>Feature</td>\n",
       "      <td>feature1</td>\n",
       "      <td></td>\n",
       "      <td></td>\n",
       "      <td>Closed</td>\n",
       "      <td>0.0</td>\n",
       "      <td>projectName\\team1</td>\n",
       "    </tr>\n",
       "    <tr>\n",
       "      <th>1</th>\n",
       "      <td>111</td>\n",
       "      <td>User Story</td>\n",
       "      <td>feature1</td>\n",
       "      <td>story1</td>\n",
       "      <td></td>\n",
       "      <td>Closed</td>\n",
       "      <td>1.0</td>\n",
       "      <td>projectName\\team1\\Sprint 1</td>\n",
       "    </tr>\n",
       "    <tr>\n",
       "      <th>2</th>\n",
       "      <td>112</td>\n",
       "      <td>User Story</td>\n",
       "      <td>feature1</td>\n",
       "      <td>story2</td>\n",
       "      <td></td>\n",
       "      <td>Closed</td>\n",
       "      <td>1.0</td>\n",
       "      <td>projectName\\team1\\Sprint 1</td>\n",
       "    </tr>\n",
       "    <tr>\n",
       "      <th>3</th>\n",
       "      <td>113</td>\n",
       "      <td>User Story</td>\n",
       "      <td>feature1</td>\n",
       "      <td>story3</td>\n",
       "      <td></td>\n",
       "      <td>Closed</td>\n",
       "      <td>3.0</td>\n",
       "      <td>projectName\\team1\\Sprint 1</td>\n",
       "    </tr>\n",
       "  </tbody>\n",
       "</table>\n",
       "</div>"
      ],
      "text/plain": [
       "    ID Work Item Type   Feature Title 2 Title 3   State  Story Points  \\\n",
       "0  100        Feature  feature1                  Closed           0.0   \n",
       "1  111     User Story  feature1  story1          Closed           1.0   \n",
       "2  112     User Story  feature1  story2          Closed           1.0   \n",
       "3  113     User Story  feature1  story3          Closed           3.0   \n",
       "\n",
       "               Iteration Path  \n",
       "0           projectName\\team1  \n",
       "1  projectName\\team1\\Sprint 1  \n",
       "2  projectName\\team1\\Sprint 1  \n",
       "3  projectName\\team1\\Sprint 1  "
      ]
     },
     "execution_count": 5,
     "metadata": {},
     "output_type": "execute_result"
    }
   ],
   "source": [
    "### Various dataframes\n",
    "# df.head() \n",
    "# sprintdf.tail()\n",
    "# MVP_featdf.head()\n",
    "\n",
    "# Show stories in the feature: df[df['Feature']=='feature1']\n",
    "df[df['Feature']=='feature1']"
   ]
  },
  {
   "cell_type": "markdown",
   "metadata": {},
   "source": [
    "# MVP Feature  <a class=\"anchor\" id=\"feature_percent\"></a>"
   ]
  },
  {
   "cell_type": "code",
   "execution_count": 6,
   "metadata": {
    "scrolled": false
   },
   "outputs": [
    {
     "name": "stdout",
     "output_type": "stream",
     "text": [
      "% Story Points Complete =  81.82\n",
      "Total # Story Points =  44\n",
      "# Remaining Story Points =  8\n"
     ]
    },
    {
     "data": {
      "image/png": "[encoded data removed]",
      "text/plain": [
       "<Figure size 1008x432 with 1 Axes>"
      ]
     },
     "metadata": {
      "needs_background": "light"
     },
     "output_type": "display_data"
    }
   ],
   "source": [
    "# Define x-axis max value\n",
    "max_x = featdf['# Story Points'].max()\n",
    "x_axis_max = (int(max_x/5)+1)*5\n",
    "\n",
    "# Plot\n",
    "ax1 = featdf.plot.barh(title=\"MVP Feature Percent Complete\", x=\"Feature\", y= \"# Story Points\",color='lightcoral', figsize = (w,h));\n",
    "featdf.plot.barh(x=\"Feature\", y= \"# Points Closed\", ax=ax1, color='c', width = 0.5);\n",
    "ax1.set_yticklabels(featdf['Feature'], rotation=0);\n",
    "ax1.set_xlim(0, x_axis_max);\n",
    "\n",
    "for i, cards in enumerate(list(featdf['# Story Points'])):\n",
    "    ax1.annotate(str(cards-featdf['# Points Closed'].iloc[i]), xy = (cards, i), va = \"center\")\n",
    "\n",
    "# Number of MVP points\n",
    "num_mvp = featdf['# Story Points'].sum()\n",
    "mvp_left = featdf['# Story Points'].sum()-featdf['# Points Closed'].sum()\n",
    "MVP_percent_complete = featdf['# Points Closed'].sum()/featdf['# Story Points'].sum()*100\n",
    "\n",
    "print('% Story Points Complete = ', MVP_percent_complete.round(2))\n",
    "print('Total # Story Points = ', num_mvp) \n",
    "print('# Remaining Story Points = ', mvp_left)"
   ]
  },
  {
   "cell_type": "code",
   "execution_count": null,
   "metadata": {},
   "outputs": [],
   "source": []
  }
 ],
 "metadata": {
  "kernelspec": {
   "display_name": "Python 3",
   "language": "python",
   "name": "python3"
  },
  "language_info": {
   "codemirror_mode": {
    "name": "ipython",
    "version": 3
   },
   "file_extension": ".py",
   "mimetype": "text/x-python",
   "name": "python",
   "nbconvert_exporter": "python",
   "pygments_lexer": "ipython3",
   "version": "3.7.1"
  }
 },
 "nbformat": 4,
 "nbformat_minor": 2
}
